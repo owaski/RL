{
 "cells": [
  {
   "cell_type": "markdown",
   "metadata": {},
   "source": [
    "# test reward"
   ]
  },
  {
   "cell_type": "code",
   "execution_count": 24,
   "metadata": {},
   "outputs": [],
   "source": [
    "from comet import download_model, load_from_checkpoint"
   ]
  },
  {
   "cell_type": "code",
   "execution_count": 27,
   "metadata": {},
   "outputs": [
    {
     "data": {
      "application/vnd.jupyter.widget-view+json": {
       "model_id": "1ceb8a0bf90748e681ef8016f0b61ed8",
       "version_major": 2,
       "version_minor": 0
      },
      "text/plain": [
       "Fetching 5 files:   0%|          | 0/5 [00:00<?, ?it/s]"
      ]
     },
     "metadata": {},
     "output_type": "display_data"
    }
   ],
   "source": [
    "model_path = download_model(\"Unbabel/XCOMET-XL\", saving_directory='/ckpts/llm/xcomet-xl')"
   ]
  },
  {
   "cell_type": "code",
   "execution_count": 29,
   "metadata": {},
   "outputs": [
    {
     "data": {
      "application/vnd.jupyter.widget-view+json": {
       "model_id": "efc11f57e9814b15bec071788b0fb884",
       "version_major": 2,
       "version_minor": 0
      },
      "text/plain": [
       "tokenizer_config.json:   0%|          | 0.00/405 [00:00<?, ?B/s]"
      ]
     },
     "metadata": {},
     "output_type": "display_data"
    },
    {
     "data": {
      "application/vnd.jupyter.widget-view+json": {
       "model_id": "c06ed84b43d64af6ab91a6b4e939fedb",
       "version_major": 2,
       "version_minor": 0
      },
      "text/plain": [
       "sentencepiece.bpe.model:   0%|          | 0.00/5.07M [00:00<?, ?B/s]"
      ]
     },
     "metadata": {},
     "output_type": "display_data"
    },
    {
     "data": {
      "application/vnd.jupyter.widget-view+json": {
       "model_id": "2a689513ec6b4c5e8f9f935b686d26c3",
       "version_major": 2,
       "version_minor": 0
      },
      "text/plain": [
       "tokenizer.json: 0.00B [00:00, ?B/s]"
      ]
     },
     "metadata": {},
     "output_type": "display_data"
    },
    {
     "data": {
      "application/vnd.jupyter.widget-view+json": {
       "model_id": "03503b65cbca49e3a626c6561740519d",
       "version_major": 2,
       "version_minor": 0
      },
      "text/plain": [
       "special_tokens_map.json:   0%|          | 0.00/238 [00:00<?, ?B/s]"
      ]
     },
     "metadata": {},
     "output_type": "display_data"
    },
    {
     "data": {
      "application/vnd.jupyter.widget-view+json": {
       "model_id": "f315c029a80a4b978b580208386b6ba8",
       "version_major": 2,
       "version_minor": 0
      },
      "text/plain": [
       "config.json:   0%|          | 0.00/659 [00:00<?, ?B/s]"
      ]
     },
     "metadata": {},
     "output_type": "display_data"
    },
    {
     "name": "stderr",
     "output_type": "stream",
     "text": [
      "Encoder model frozen.\n",
      "/opt/nemo_rl_venv/lib/python3.12/site-packages/pytorch_lightning/core/saving.py:195: Found keys that are not in the model state dict but in the checkpoint: ['encoder.model.embeddings.position_ids']\n"
     ]
    }
   ],
   "source": [
    "model = load_from_checkpoint(model_path)"
   ]
  },
  {
   "cell_type": "code",
   "execution_count": 30,
   "metadata": {},
   "outputs": [
    {
     "name": "stderr",
     "output_type": "stream",
     "text": [
      "💡 Tip: For seamless cloud uploads and versioning, try installing [litmodels](https://pypi.org/project/litmodels/) to enable LitModelCheckpoint, which syncs automatically with the Lightning model registry.\n",
      "GPU available: True (cuda), used: True\n",
      "TPU available: False, using: 0 TPU cores\n",
      "HPU available: False, using: 0 HPUs\n",
      "You are using a CUDA device ('NVIDIA RTX 6000 Ada Generation') that has Tensor Cores. To properly utilize them, you should set `torch.set_float32_matmul_precision('medium' | 'high')` which will trade-off precision for performance. For more details, read https://pytorch.org/docs/stable/generated/torch.set_float32_matmul_precision.html#torch.set_float32_matmul_precision\n",
      "LOCAL_RANK: 0 - CUDA_VISIBLE_DEVICES: [0,1]\n",
      "Predicting DataLoader 0: 100%|██████████| 1/1 [00:00<00:00,  3.13it/s]\n"
     ]
    },
    {
     "name": "stdout",
     "output_type": "stream",
     "text": [
      "[0.45751047134399414]\n",
      "0.45751047134399414\n",
      "[[{'text': 'ist bei', 'confidence': 0.4095492959022522, 'severity': 'critical', 'start': 13, 'end': 21}, {'text': 'Abgeordnete', 'confidence': 0.2736637592315674, 'severity': 'major', 'start': 27, 'end': 38}, {'text': 'völlig in der Gunst', 'confidence': 0.5219241380691528, 'severity': 'critical', 'start': 39, 'end': 59}]]\n"
     ]
    }
   ],
   "source": [
    "data = [\n",
    "    {\n",
    "        \"src\": \"Boris Johnson teeters on edge of favour with Tory MPs\", \n",
    "        \"mt\": \"Boris Johnson ist bei Tory-Abgeordneten völlig in der Gunst\", \n",
    "        \"ref\": \"Boris Johnsons Beliebtheit bei Tory-MPs steht auf der Kippe\"\n",
    "    }\n",
    "]\n",
    "model_output = model.predict(data, batch_size=8, gpus=1)\n",
    "# Segment-level scores\n",
    "print (model_output.scores)\n",
    "\n",
    "# System-level score\n",
    "print (model_output.system_score)\n",
    "\n",
    "# Score explanation (error spans)\n",
    "print (model_output.metadata.error_spans)"
   ]
  },
  {
   "cell_type": "markdown",
   "metadata": {},
   "source": [
    "# test data loading"
   ]
  },
  {
   "cell_type": "code",
   "execution_count": 21,
   "metadata": {},
   "outputs": [],
   "source": [
    "import numpy as np\n",
    "import pandas as pd"
   ]
  },
  {
   "cell_type": "code",
   "execution_count": 3,
   "metadata": {},
   "outputs": [],
   "source": [
    "import pandas as pd\n",
    "\n",
    "df = pd.read_parquet(\"/data/asr/yodas/npy/parakeet-tdt-0.6b-v2_robust60-1120_langid_zh_blaser2.0-qe3.0_metricx-qe4.0_simalign/en000/manifest.parquet\")"
   ]
  },
  {
   "cell_type": "code",
   "execution_count": 19,
   "metadata": {},
   "outputs": [],
   "source": [
    "data = df.sample(1, random_state=42).iloc[0].to_dict()"
   ]
  },
  {
   "cell_type": "code",
   "execution_count": 23,
   "metadata": {},
   "outputs": [
    {
     "data": {
      "text/plain": [
       "(840, 3584)"
      ]
     },
     "execution_count": 23,
     "metadata": {},
     "output_type": "execute_result"
    }
   ],
   "source": [
    "np.load(data['audio_npy_path'], mmap_mode='r')[420].shape"
   ]
  },
  {
   "cell_type": "code",
   "execution_count": 20,
   "metadata": {},
   "outputs": [
    {
     "data": {
      "text/plain": [
       "{'audio_npy_path': '/data/asr/yodas/npy/parakeet-tdt-0.6b-v2_robust60-1120_langid_zh_blaser2.0-qe3.0_metricx-qe4.0_simalign/en000/000.npy',\n",
       " 'audio_npy_row': 420,\n",
       " 'audio_duration': 67.2,\n",
       " 'chunk_frame_size': 14,\n",
       " 'segment_info': array([{'end': 3.600000000000364, 'start': 0.3200000000001637},\n",
       "        {'end': 17.04000000000042, 'start': 4.2400000000002365},\n",
       "        {'end': 24.96000000000049, 'start': 17.360000000000127},\n",
       "        {'end': 30.720000000000255, 'start': 25.840000000000146},\n",
       "        {'end': 37.20000000000027, 'start': 31.04000000000042},\n",
       "        {'end': 57.2800000000002, 'start': 38.16000000000031},\n",
       "        {'end': 61.92000000000007, 'start': 57.92000000000007}],\n",
       "       dtype=object),\n",
       " 'src_segments': array(['Henry VIII was co-written with John Fletcher.',\n",
       "        \"Brian Vickers suggests that Titus Andronicus was co-written with George Peel, though Jonathan Bate, the play's most recent editor for the ardent Shakespeare, believes it to be wholly the work of Shakespeare.\",\n",
       "        'Brian Vickers and others believe that Timon of Athens was co-written with Thomas Middleton, though some commentators disagree.',\n",
       "        'The text of Macbeth which survives has plainly been altered by later hands.',\n",
       "        \"Most notable is the inclusion of two songs from Thomas Middleton's play The Witch of 1615.\",\n",
       "        \"The Passionate Pilgrim, published under Shakespeare's name in 1599 without his permission, includes early versions of two of his sonnets, three extracts from Love's Labours Lost, several poems known to be by other poets, and eleven poems of unknown authorship for which the attribution to Shakespeare has not been disproved.\",\n",
       "        'Cardinio was apparently co-written with John Fletcher.'],\n",
       "       dtype=object),\n",
       " 'tgt_segments': array(['亨利八世是与约翰·弗莱彻合写的。',\n",
       "        '布莱恩·维克斯认为泰特斯·安德洛尼克斯是与乔治·皮尔合写的，尽管为莎士比亚坚定支持者编辑该剧的最新编辑乔纳森·贝特认为该剧完全出自莎士比亚一人之手。',\n",
       "        '布莱恩·维克斯和其他人认为雅典的提摩尼是与托马斯·米德尔顿合写的，尽管一些评论家持不同意见。',\n",
       "        '现存的麦克白文本显然经过后人修改。', '最显著的是加入了两首来自托马斯·米德尔顿1615年戏剧《女巫》中的歌曲。',\n",
       "        '《热情的朝圣者》于1599年未经莎士比亚许可以他的名义出版，其中包含了他两首十四行诗的早期版本、三段来自《维纳斯与阿多尼斯》的摘录、几首已知为其他诗人所作的诗歌，以及十一首作者不明的诗歌，这些诗歌尚未被证实并非莎士比亚所作。',\n",
       "        '卡迪尼奥显然是与约翰·弗莱彻合写的。'], dtype=object)}"
      ]
     },
     "execution_count": 20,
     "metadata": {},
     "output_type": "execute_result"
    }
   ],
   "source": [
    "data"
   ]
  }
 ],
 "metadata": {
  "kernelspec": {
   "display_name": "nemo_rl_venv",
   "language": "python",
   "name": "python3"
  },
  "language_info": {
   "codemirror_mode": {
    "name": "ipython",
    "version": 3
   },
   "file_extension": ".py",
   "mimetype": "text/x-python",
   "name": "python",
   "nbconvert_exporter": "python",
   "pygments_lexer": "ipython3",
   "version": "3.12.10"
  }
 },
 "nbformat": 4,
 "nbformat_minor": 2
}
